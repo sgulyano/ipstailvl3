{
 "cells": [
  {
   "cell_type": "code",
   "execution_count": 1,
   "metadata": {},
   "outputs": [],
   "source": [
    "import dash\n",
    "import dash_core_components as dcc\n",
    "import dash_html_components as html\n",
    "from dash.dependencies import Input, Output\n",
    "import plotly.graph_objects as go\n",
    "import pandas as pd\n",
    "import numpy as np\n",
    "from sklearn import tree\n",
    "from sklearn.datasets import load_iris\n",
    "from sklearn import tree\n",
    "from sklearn.model_selection import train_test_split\n",
    "from sklearn.metrics import accuracy_score\n",
    "import matplotlib.pyplot as plt\n",
    "import subprocess\n",
    "from skimage import io\n",
    "import os\n",
    "import glob"
   ]
  },
  {
   "cell_type": "code",
   "execution_count": 2,
   "metadata": {},
   "outputs": [],
   "source": [
    "if not os.path.exists('tree_diagrams/'):\n",
    "    os.makedirs('tree_diagrams/')"
   ]
  },
  {
   "cell_type": "code",
   "execution_count": 3,
   "metadata": {},
   "outputs": [],
   "source": [
    "np.random.seed(42)\n",
    "data = load_iris()\n",
    "\n",
    "X = data['data'][:, :2]\n",
    "y = data['target']\n",
    "\n",
    "x_train, x_test, y_train, y_test = train_test_split(\n",
    "    X, y, test_size=0.4, random_state=42)\n"
   ]
  },
  {
   "cell_type": "code",
   "execution_count": 4,
   "metadata": {},
   "outputs": [],
   "source": [
    "fn = data.feature_names[:2]\n",
    "cn = data.target_names"
   ]
  },
  {
   "cell_type": "code",
   "execution_count": 5,
   "metadata": {},
   "outputs": [],
   "source": [
    "max_depth=6\n",
    "max_leaf_nodes=None\n",
    "min_samples_split=2"
   ]
  },
  {
   "cell_type": "code",
   "execution_count": 6,
   "metadata": {},
   "outputs": [],
   "source": [
    "def get_tree(max_depth, min_samples_split, max_leaf_nodes, DEBUG=False):\n",
    "    clf = tree.DecisionTreeClassifier(max_depth=max_depth, min_samples_split=min_samples_split, max_leaf_nodes=max_leaf_nodes)\n",
    "    clf = clf.fit(x_train, y_train)\n",
    "    if DEBUG:\n",
    "        fig, axes = plt.subplots(dpi=300)\n",
    "        res = tree.plot_tree(clf,\n",
    "                       ax=axes,\n",
    "                       feature_names = fn, \n",
    "                       class_names=cn,\n",
    "                       filled=True, rounded=True)\n",
    "    tree.export_graphviz(clf, out_file=f'tree_diagrams/tree_{max_depth}_{min_samples_split}_{max_leaf_nodes}.dot', \n",
    "                      feature_names=data.feature_names[:2],  \n",
    "                      class_names=data.target_names,  \n",
    "                      filled=True, rounded=True,  \n",
    "                      special_characters=True)"
   ]
  },
  {
   "cell_type": "code",
   "execution_count": 7,
   "metadata": {},
   "outputs": [],
   "source": [
    "for d in range(1,7):\n",
    "    for l in [3,6,9,12,15,18]:\n",
    "        for s in [2,5,10,20,40]:\n",
    "            get_tree(d, s, l)"
   ]
  },
  {
   "cell_type": "code",
   "execution_count": 8,
   "metadata": {},
   "outputs": [],
   "source": [
    "flist = glob.glob(\"tree_diagrams/*.dot\")"
   ]
  },
  {
   "cell_type": "code",
   "execution_count": 9,
   "metadata": {},
   "outputs": [],
   "source": [
    "for fn in flist:\n",
    "    dst = fn[:-4] + '.png'\n",
    "    !dot -Tpng $fn -o  $dst"
   ]
  }
 ],
 "metadata": {
  "kernelspec": {
   "display_name": "Python 3",
   "language": "python",
   "name": "python3"
  },
  "language_info": {
   "codemirror_mode": {
    "name": "ipython",
    "version": 3
   },
   "file_extension": ".py",
   "mimetype": "text/x-python",
   "name": "python",
   "nbconvert_exporter": "python",
   "pygments_lexer": "ipython3",
   "version": "3.7.3"
  }
 },
 "nbformat": 4,
 "nbformat_minor": 4
}
